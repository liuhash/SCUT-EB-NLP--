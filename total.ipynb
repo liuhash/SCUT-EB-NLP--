{
 "cells": [
  {
   "cell_type": "code",
   "execution_count": 2,
   "metadata": {
    "collapsed": true
   },
   "outputs": [],
   "source": [
    "import tensorflow as tf\n",
    "import numpy as np\n",
    "import os\n",
    "# 从硬盘或者网络连接读取文件存到的.keras\\datasets下。\n",
    "path_to_file = tf.keras.utils.get_file(\"poetry.txt\",\"file:///D:/pythonprojects/NLP/大作业/poetry.txt\")\n",
    "# 读取文本内容\n",
    "text = open(path_to_file, 'rb').read().decode(encoding='gbk')\n",
    "# 打印出来\n",
    "# print(text)"
   ]
  },
  {
   "cell_type": "markdown",
   "source": [],
   "metadata": {
    "collapsed": false
   }
  },
  {
   "cell_type": "code",
   "execution_count": 3,
   "outputs": [],
   "source": [
    "# 列举文本中的非重复字符即字库\n",
    "vocab = sorted(set(text))\n",
    "# 字库保存到文件，以后使用直接拿，不用再去计算\n",
    "np.save('vocab.npy',vocab)\n",
    "#word2vec\n",
    "word2vec = {u:i for i, u in enumerate(vocab)}\n",
    "\n",
    "# 创建从索引到非重复字符的映射\n",
    "idx2char = np.array(vocab) # 一个数组 ['龙' ... '龚' '龛' '龟']，根据数能找到字\n",
    "# 将训练文件内容转换为索引的数据\n",
    "# 全部文本转换为数字 [1020 4914 3146 ... 4731 2945    0]\n",
    "text_as_int = np.array([word2vec[c] for c in text])\n"
   ],
   "metadata": {
    "collapsed": false
   }
  },
  {
   "cell_type": "markdown",
   "source": [],
   "metadata": {
    "collapsed": false
   }
  },
  {
   "cell_type": "code",
   "execution_count": 4,
   "outputs": [],
   "source": [
    "# 处理一句段文本，拆分为输入和输出两段\n",
    "def split_input_target(chunk):\n",
    "    input_text = chunk[:-1]\n",
    "    target_text = chunk[1:]\n",
    "    return input_text, target_text\n",
    "\n",
    "# 创建训练样本，将转化为数字的诗句外面套一层壳子，原来是[x]\n",
    "char_dataset = tf.data.Dataset.from_tensor_slices(text_as_int)\n",
    "# 所有样本中，每24个字作为一组\n",
    "sequences = char_dataset.batch(24, drop_remainder=True) # 数据当前状态：((24,x))\n",
    "# 将每24个字作为一组所有样本，掐头去尾转为输入，输出结对\n",
    "dataset = sequences.map(split_input_target) # 数据当前状态：((23,x), (23,x))\n",
    "\n",
    "# 将众多输入输出对打散，并64个为一组\n",
    "BATCH_SIZE = 64\n",
    "# 数据当前状态：((64, 23), (64, 23))\n",
    "dataset = dataset.shuffle(10000).batch(BATCH_SIZE, drop_remainder=True)\n",
    "# 获取一批训练的输入，输出\n",
    "train_batch, train_labels = next(iter(dataset))"
   ],
   "metadata": {
    "collapsed": false
   }
  },
  {
   "cell_type": "code",
   "execution_count": 5,
   "outputs": [
    {
     "data": {
      "image/png": "[encoded data removed]",
      "text/plain": "<IPython.core.display.Image object>"
     },
     "execution_count": 5,
     "metadata": {},
     "output_type": "execute_result"
    }
   ],
   "source": [
    "from tensorflow.keras.utils import plot_model\n",
    "# 构建一个模型的方法\n",
    "def build_model(vocab_size, embedding_dim, rnn_units, batch_size):\n",
    "    model = tf.keras.Sequential([\n",
    "    tf.keras.layers.Embedding(vocab_size, embedding_dim,\n",
    "                              batch_input_shape=[batch_size, None]),\n",
    "    tf.keras.layers.GRU(rnn_units,\n",
    "                        return_sequences=True,\n",
    "                        stateful=True,\n",
    "                        recurrent_initializer='glorot_uniform'),\n",
    "    tf.keras.layers.Dense(vocab_size)])\n",
    "    return model\n",
    "\n",
    "# 词集的长度,也就是字典的大小\n",
    "vocab_size = len(vocab)\n",
    "# 嵌入的维度，也就是生成的embedding的维数\n",
    "embedding_dim = 256\n",
    "# RNN 的单元数量\n",
    "rnn_units = 1024\n",
    "\n",
    "# 整一个模型\n",
    "model = build_model(\n",
    "  vocab_size = len(vocab),\n",
    "  embedding_dim=embedding_dim,\n",
    "  rnn_units=rnn_units,\n",
    "  batch_size=BATCH_SIZE)\n",
    "\n",
    "# 损失函数\n",
    "def loss(labels, logits):\n",
    "      return tf.keras.losses.sparse_categorical_crossentropy(labels, logits, from_logits=True)\n",
    "\n",
    "# 配置优化器和损失函数\n",
    "model.compile(optimizer='adam', loss=loss)\n",
    "plot_model(model, to_file='模型.png', show_shapes=True)"
   ],
   "metadata": {
    "collapsed": false
   }
  },
  {
   "cell_type": "code",
   "execution_count": 5,
   "outputs": [
    {
     "name": "stdout",
     "output_type": "stream",
     "text": [
      "Epoch 1/20\n"
     ]
    },
    {
     "name": "stderr",
     "output_type": "stream",
     "text": [
      "2022-10-20 15:34:55.156815: W tensorflow/core/framework/cpu_allocator_impl.cc:82] Allocation of 22036480 exceeds 10% of free system memory.\n",
      "2022-10-20 15:34:55.177774: W tensorflow/core/framework/cpu_allocator_impl.cc:82] Allocation of 22036480 exceeds 10% of free system memory.\n"
     ]
    },
    {
     "name": "stdout",
     "output_type": "stream",
     "text": [
      "565/565 [==============================] - 610s 1s/step - loss: 5.6329\n",
      "Epoch 2/20\n",
      "565/565 [==============================] - 625s 1s/step - loss: 4.7665\n",
      "Epoch 3/20\n",
      "565/565 [==============================] - 621s 1s/step - loss: 4.3784\n",
      "Epoch 4/20\n",
      "565/565 [==============================] - 651s 1s/step - loss: 4.0650\n",
      "Epoch 5/20\n",
      "565/565 [==============================] - 630s 1s/step - loss: 3.7570\n",
      "Epoch 6/20\n",
      "565/565 [==============================] - 656s 1s/step - loss: 3.4425\n",
      "Epoch 7/20\n",
      "565/565 [==============================] - 653s 1s/step - loss: 3.1349\n",
      "Epoch 8/20\n",
      "565/565 [==============================] - 591s 1s/step - loss: 2.8533\n",
      "Epoch 9/20\n",
      "565/565 [==============================] - 591s 1s/step - loss: 2.6024\n",
      "Epoch 10/20\n",
      "565/565 [==============================] - 590s 1s/step - loss: 2.3897\n",
      "Epoch 11/20\n",
      "565/565 [==============================] - 590s 1s/step - loss: 2.2107\n",
      "Epoch 12/20\n",
      "565/565 [==============================] - 590s 1s/step - loss: 2.0599\n",
      "Epoch 13/20\n",
      "565/565 [==============================] - 551s 973ms/step - loss: 1.9360\n",
      "Epoch 14/20\n",
      "565/565 [==============================] - 590s 1s/step - loss: 1.8308\n",
      "Epoch 15/20\n",
      "565/565 [==============================] - 588s 1s/step - loss: 1.7447\n",
      "Epoch 16/20\n",
      "565/565 [==============================] - 547s 967ms/step - loss: 1.6655\n",
      "Epoch 17/20\n",
      "565/565 [==============================] - 587s 1s/step - loss: 1.6035\n",
      "Epoch 18/20\n",
      "565/565 [==============================] - 587s 1s/step - loss: 1.5448\n",
      "Epoch 19/20\n",
      "565/565 [==============================] - 487s 860ms/step - loss: 1.5014\n",
      "Epoch 20/20\n",
      "565/565 [==============================] - 317s 560ms/step - loss: 1.4576\n"
     ]
    }
   ],
   "source": [
    "# 训练结果保存的目录\n",
    "checkpoint_dir = './training_checkpoints'\n",
    "# 文件名 ckpt_训练轮数\n",
    "checkpoint_prefix = os.path.join(checkpoint_dir, \"ckpt_{epoch}\")\n",
    "# 训练的回调\n",
    "checkpoint_callback=tf.keras.callbacks.ModelCheckpoint(filepath=checkpoint_prefix, save_weights_only=True)\n",
    "# 进行训练\n",
    "history = model.fit(dataset, epochs=20, callbacks=[checkpoint_callback])"
   ],
   "metadata": {
    "collapsed": false
   }
  },
  {
   "cell_type": "code",
   "execution_count": 6,
   "outputs": [],
   "source": [
    "import tensorflow as tf\n",
    "import numpy as np\n",
    "\n",
    "# 读取字典\n",
    "vocab = np.load('vocab.npy')\n",
    "# 创建从非重复字符到索引的映射\n",
    "char2idx = {u:i for i, u in enumerate(vocab)}\n",
    "# 创建从数字到字符的映射\n",
    "idx2char = np.array(vocab)\n",
    "# 词集的长度,也就是字典的大小\n",
    "vocab_size = len(vocab)\n",
    "# 嵌入的维度，也就是生成的embedding的维数\n",
    "embedding_dim = 256\n",
    "# RNN 的单元数量\n",
    "rnn_units = 1024\n",
    "\n",
    "# 读取保存的训练结果\n",
    "checkpoint_dir = './training_checkpoints'\n",
    "tf.train.latest_checkpoint(checkpoint_dir)\n",
    "model = build_model(vocab_size, embedding_dim,\n",
    "                    rnn_units, batch_size=1)\n",
    "# 当初只保存了权重，现在只加载权重\n",
    "model.load_weights(tf.train.latest_checkpoint(checkpoint_dir))\n",
    "# 从历史结果构建起一个model\n",
    "model.build(tf.TensorShape([1, None]))"
   ],
   "metadata": {
    "collapsed": false
   }
  },
  {
   "cell_type": "code",
   "execution_count": 8,
   "outputs": [
    {
     "name": "stdout",
     "output_type": "stream",
     "text": [
      "[3670]\n",
      "tf.Tensor([[3670]], shape=(1, 1), dtype=int32)\n",
      "tf.Tensor(\n",
      "[[[-4.930423    4.858724   -2.1218145  ... -3.0250316  -3.1717212\n",
      "   -0.18678227]]], shape=(1, 1, 5380), dtype=float32)\n",
      "[['许']]\n"
     ]
    }
   ],
   "source": [
    "start_string = \"自\"\n",
    "# 将起始字符串转换为数字\n",
    "input_eval = [char2idx[s] for s in start_string]\n",
    "print(input_eval)\n",
    "# 训练模型结构一般是多套输入多套输出，要升维\n",
    "input_eval = tf.expand_dims(input_eval, 0)\n",
    "print(input_eval) # Tensor([[1808]])\n",
    "\n",
    "# 获得预测结果，结果是多维的\n",
    "predictions = model(input_eval)\n",
    "print(predictions)\n",
    "'''\n",
    "输出的是预测结果，总共输入'明'一个字，输出分别对应的下一个字的概率，总共有5380个字\n",
    "shape=(1, 1, 5380)\n",
    "tf.Tensor(\n",
    "[[[ -3.3992984    2.3124864   -2.7357426  ... -10.154563 ]]])\n",
    "'''\n",
    "\n",
    "# 预测结果，删除批次的维度[[xx]]变为[xx]\n",
    "predictions1 = tf.squeeze(predictions, 0)\n",
    "# 用分类分布预测模型返回的字符，从5380个字中根据概率找出num_samples个字\n",
    "predicted_ids = tf.random.categorical(predictions1, num_samples=1).numpy()\n",
    "print(idx2char[predicted_ids])"
   ],
   "metadata": {
    "collapsed": false
   }
  },
  {
   "cell_type": "code",
   "execution_count": 10,
   "outputs": [
    {
     "name": "stdout",
     "output_type": "stream",
     "text": [
      "最终输出: 电影入长廊 子有平生剑 商留归国车 务辞诗国赋\n"
     ]
    }
   ],
   "source": [
    "# 根据一段文本，预测下一段文本\n",
    "def generate_text(model, start_string, num_generate=6):\n",
    "    # 将起始字符串转换为数字（向量化）\n",
    "    input_eval = [char2idx[s] for s in start_string]\n",
    "    # 上面结果是[2,3,4,5]\n",
    "\n",
    "    # 训练模型结构一般是多套输入多套输出，要升维\n",
    "    input_eval = tf.expand_dims(input_eval, 0)\n",
    "    # 上结果变为[[2,3,4,5]]\n",
    "\n",
    "    # 空字符串用于存储结果\n",
    "    text_generated = []\n",
    "\n",
    "    model.reset_states()\n",
    "    for i in range(num_generate):\n",
    "        # 获得预测结果，结果是多维的\n",
    "        predictions = model(input_eval)\n",
    "        # 预测结果，删除批次的维度[[xx,xx]]变为[xx,xx]\n",
    "        predictions = tf.squeeze(predictions, 0)\n",
    "        # 用分类分布预测模型返回的字符\n",
    "        predicted_id = tf.random.categorical(predictions, num_samples=1)[-1, 0].numpy()\n",
    "        # 把预测字符和前面的隐藏状态一起传递给模型作为下一个输入\n",
    "        input_eval = tf.expand_dims([predicted_id], 0)\n",
    "        # 将预测的字符存起来\n",
    "        text_generated.append(idx2char[predicted_id])\n",
    "\n",
    "    # 最终返回结果\n",
    "    return start_string + ''.join(text_generated)\n",
    "\n",
    "\n",
    "s = \"电子商务\"\n",
    "array_keys = list(s)\n",
    "all_string = \"\"\n",
    "for word in array_keys:\n",
    "    all_string = all_string + \" \" + word\n",
    "    next_len = 5 - len(word)\n",
    "    # print(\"input:\", all_string)\n",
    "    all_string = generate_text(model, start_string=all_string, num_generate=next_len)\n",
    "    # print(\"out:\", all_string)\n",
    "\n",
    "print(\"最终输出:\" + all_string)\n"
   ],
   "metadata": {
    "collapsed": false
   }
  }
 ],
 "metadata": {
  "kernelspec": {
   "display_name": "Python 3",
   "language": "python",
   "name": "python3"
  },
  "language_info": {
   "codemirror_mode": {
    "name": "ipython",
    "version": 2
   },
   "file_extension": ".py",
   "mimetype": "text/x-python",
   "name": "python",
   "nbconvert_exporter": "python",
   "pygments_lexer": "ipython2",
   "version": "2.7.6"
  }
 },
 "nbformat": 4,
 "nbformat_minor": 0
}
